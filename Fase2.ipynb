{
  "nbformat": 4,
  "nbformat_minor": 0,
  "metadata": {
    "colab": {
      "name": "Fase2.ipynb",
      "provenance": [],
      "include_colab_link": true
    },
    "kernelspec": {
      "name": "python3",
      "display_name": "Python 3"
    }
  },
  "cells": [
    {
      "cell_type": "markdown",
      "metadata": {
        "id": "view-in-github",
        "colab_type": "text"
      },
      "source": [
        "<a href=\"https://colab.research.google.com/github/ferdevpy/Pythonlab/blob/main/Fase2.ipynb\" target=\"_parent\"><img src=\"https://colab.research.google.com/assets/colab-badge.svg\" alt=\"Open In Colab\"/></a>"
      ]
    },
    {
      "cell_type": "markdown",
      "metadata": {
        "id": "CYNAmoj4zSXl"
      },
      "source": [
        "Crie um algoritmo em Python que peça 2 números e imprima o maior deles."
      ]
    },
    {
      "cell_type": "code",
      "metadata": {
        "id": "ViAfpy3GzPN-",
        "colab": {
          "base_uri": "https://localhost:8080/"
        },
        "outputId": "fdf79336-1b19-4906-981b-5c40f6a2e4b0"
      },
      "source": [
        "num1=float(input('Insira aqui o primeiro número:'))\n",
        "num2=float(input('Insira aqui o segundo número:'))\n",
        "if num1>num2:\n",
        "  print(f'O maior número é o primeiro. Seu valor é {num1}')\n",
        "elif num1==num2:\n",
        "  print(f'Os números são iguais!')\n",
        "else:\n",
        "  print(f'O maior número é o segundo. Seu valor é {num2}')\n"
      ],
      "execution_count": null,
      "outputs": [
        {
          "output_type": "stream",
          "text": [
            "Insira aqui o primeiro número:3\n",
            "Insira aqui o segundo número:3\n",
            "Os números são iguais!\n"
          ],
          "name": "stdout"
        }
      ]
    },
    {
      "cell_type": "markdown",
      "metadata": {
        "id": "gdMis92izSmQ"
      },
      "source": [
        "Crie um algoritmo em Python que peça um valor e mostre na tela se o valor é positivo ou negativo."
      ]
    },
    {
      "cell_type": "code",
      "metadata": {
        "id": "BFpWkdCBz_zh"
      },
      "source": [
        "num=float(input('Insira aqui um número:'))\n",
        "if num>=0:\n",
        "  print('o número escolhido é maior ou igual a zero, logo, é positivo.')\n",
        "else:\n",
        "  print('o número é negativo.')"
      ],
      "execution_count": null,
      "outputs": []
    },
    {
      "cell_type": "markdown",
      "metadata": {
        "id": "E_0l_Vx6zSo2"
      },
      "source": [
        "Crie um algoritmo em Python que verifique se uma letra digitada é vogal ou consoante."
      ]
    },
    {
      "cell_type": "code",
      "metadata": {
        "id": "KwJf7XZS0AZW",
        "colab": {
          "base_uri": "https://localhost:8080/"
        },
        "outputId": "d0e33e02-25b8-48c5-fa6b-f379ece98d2e"
      },
      "source": [
        "letra=input('Insira aqui uma letra:')\n",
        "if letra in 'aeiou':\n",
        "  print(f'{letra} é uma vogal!')\n",
        "else:\n",
        "  print(f'{letra} é uma consoante!')"
      ],
      "execution_count": null,
      "outputs": [
        {
          "output_type": "stream",
          "text": [
            "Insira aqui uma letra:a\n",
            "a é uma vogal!\n"
          ],
          "name": "stdout"
        }
      ]
    },
    {
      "cell_type": "markdown",
      "metadata": {
        "id": "1i4VCiiczSrL"
      },
      "source": [
        "Faça um programa para a leitura de duas notas parciais de um aluno. O programa deve calcular a média alcançada por aluno e apresentar:\n",
        "* \"Aprovado\", se a média alcançada for maior ou igual a sete;\n",
        "* \"Reprovado\", se a média for menor do que sete;\n",
        "* \"Aprovado com Distinção\", se a média for igual a 10."
      ]
    },
    {
      "cell_type": "code",
      "metadata": {
        "id": "yoW67hjA0BHy",
        "colab": {
          "base_uri": "https://localhost:8080/"
        },
        "outputId": "e53cb875-31c3-42f3-d4e2-2183faa877bf"
      },
      "source": [
        "nota1=float(input('Insira aqui a primeira nota:'))\n",
        "nota2=float(input('Insira aqui a segunda nota:'))\n",
        "media=(nota1+nota2)/2\n",
        "if media>=7:\n",
        "  if media==10:\n",
        "    print('Aprovado com Distinção.')\n",
        "  else:\n",
        "    print('Aprovado')\n",
        "else:\n",
        "  print('Reprovado')"
      ],
      "execution_count": null,
      "outputs": [
        {
          "output_type": "stream",
          "text": [
            "Insira aqui a primeira nota:10\n",
            "Insira aqui a segunda nota:10\n",
            "Aprovado com Distinção.\n"
          ],
          "name": "stdout"
        }
      ]
    },
    {
      "cell_type": "markdown",
      "metadata": {
        "id": "4ep7kezvzStO"
      },
      "source": [
        "Crie um algoritmo em Python que leia três números e mostre o maior deles."
      ]
    },
    {
      "cell_type": "code",
      "metadata": {
        "id": "6K6IHWdr0Blt",
        "colab": {
          "base_uri": "https://localhost:8080/"
        },
        "outputId": "cba20e5e-31fd-431c-c4bf-97ee09e90df5"
      },
      "source": [
        "num1=float(input('Insira aqui o primeiro número:'))\n",
        "num2=float(input('Insira aqui o segundo número:'))\n",
        "num3=float(input('Insira aqui o terceiro número:'))\n",
        "if num1>=num2 and num1>=num3:\n",
        "  print(f'O número {num1} é o maior entre os 3 inseridos.')\n",
        "elif num2>=num1 and num2>=num3:\n",
        "  print(f'O número {num2} é o maior entre os 3 inseridos.')\n",
        "else:\n",
        "  print(f'O número {num3} é o maior entre os 3 inseridos.')"
      ],
      "execution_count": null,
      "outputs": [
        {
          "output_type": "stream",
          "text": [
            "Insira aqui o primeiro número:5\n",
            "Insira aqui o segundo número:3\n",
            "Insira aqui o terceiro número:2\n",
            "O número 5.0 é o maior entre os 3 inseridos.\n"
          ],
          "name": "stdout"
        }
      ]
    },
    {
      "cell_type": "markdown",
      "metadata": {
        "id": "u6__NaXqzeYg"
      },
      "source": [
        "Crie um algoritmo em Python que leia três números e mostre o maior e o menor deles."
      ]
    },
    {
      "cell_type": "code",
      "metadata": {
        "id": "mm2L7g3x0Cfx",
        "colab": {
          "base_uri": "https://localhost:8080/"
        },
        "outputId": "3147725a-11d5-450e-9e51-9dcde7a86239"
      },
      "source": [
        "num1=float(input('Insira aqui o primeiro número:'))\n",
        "num2=float(input('Insira aqui o segundo número:'))\n",
        "num3=float(input('Insira aqui o terceiro número:'))\n",
        "\n",
        "if num1>=num2:\n",
        "  maior=num1\n",
        "  if maior>=num3:\n",
        "    pass\n",
        "  else:\n",
        "    maior=num3\n",
        "else:\n",
        "  maior=num2\n",
        "  if maior>=num3:\n",
        "    pass\n",
        "  else:\n",
        "    maior=num3\n",
        "if num1<num2:\n",
        "  menor=num1\n",
        "  if menor<num3:\n",
        "    pass\n",
        "  else:\n",
        "    menor=num3\n",
        "else:\n",
        "  menor=num2\n",
        "  if menor<num3:\n",
        "    pass\n",
        "  else:\n",
        "    menor=num3\n",
        "if menor!=maior:\n",
        "  print(f'O número {maior} é o maior entre os 3 inseridos.')\n",
        "  print(f'O número {menor} é o menor entre os 3 inseridos.')\n",
        "else:\n",
        "  print('Os números inseridos são iguais!')"
      ],
      "execution_count": null,
      "outputs": [
        {
          "output_type": "stream",
          "text": [
            "Insira aqui o primeiro número:3\n",
            "Insira aqui o segundo número:3\n",
            "Insira aqui o terceiro número:3\n",
            "Os números inseridos são iguais!\n"
          ],
          "name": "stdout"
        }
      ]
    },
    {
      "cell_type": "markdown",
      "metadata": {
        "id": "lIlfG-ATzgOr"
      },
      "source": [
        "Faça um programa que pergunte o preço de 5 produtos e informe qual produto você deve comprar, sabendo que a decisão é sempre pelo mais barato."
      ]
    },
    {
      "cell_type": "code",
      "metadata": {
        "id": "-y4pB6br0DD_",
        "colab": {
          "base_uri": "https://localhost:8080/"
        },
        "outputId": "44aa0c17-defb-4352-ce55-cd650b952f6b"
      },
      "source": [
        "i=1\n",
        "menor=0\n",
        "while i<=5:\n",
        "  produto=float(input(f'Insira aqui o valor do {i}º produto:'))\n",
        "  if i==1 or produto<menor:\n",
        "    num=i\n",
        "    menor=produto\n",
        "  i=i+1\n",
        "print(f'O produto {num} é o mais barato.')"
      ],
      "execution_count": null,
      "outputs": [
        {
          "output_type": "stream",
          "text": [
            "Insira aqui o valor do 1º produto:5\n",
            "Insira aqui o valor do 2º produto:3\n",
            "Insira aqui o valor do 3º produto:1\n",
            "Insira aqui o valor do 4º produto:4\n",
            "Insira aqui o valor do 5º produto:9\n",
            "O produto 3 é o mais barato.\n"
          ],
          "name": "stdout"
        }
      ]
    },
    {
      "cell_type": "markdown",
      "metadata": {
        "id": "Vj4OXsJQziu_"
      },
      "source": [
        "Crie um algoritmo em Python que leia três números e mostre-os em ordem decrescente."
      ]
    },
    {
      "cell_type": "code",
      "metadata": {
        "id": "RmApGpg30D00",
        "colab": {
          "base_uri": "https://localhost:8080/"
        },
        "outputId": "e7ce21b9-e355-4d3a-aec8-3a2c21ea2088"
      },
      "source": [
        "num1=int(input('Insira aqui o primeiro número:'))\n",
        "num2=int(input('Insira aqui o segundo número:'))\n",
        "num3=int(input('Insira aqui o terceiro número:'))\n",
        "\n",
        "if num1>=num2 and num1>=num3:\n",
        "  maior=num1\n",
        "  if num2>=num3:\n",
        "    meio=num2\n",
        "    menor=num3\n",
        "  else:\n",
        "    meio=num3\n",
        "    menor=num2\n",
        "\n",
        "else:\n",
        "  menor=num1\n",
        "  if num2>=num3:\n",
        "    maior=num2\n",
        "    meio=num3\n",
        "  else:\n",
        "    maior=num3\n",
        "    meio=num2\n",
        "print(f'{maior},{meio},{menor}')"
      ],
      "execution_count": 1,
      "outputs": [
        {
          "output_type": "stream",
          "text": [
            "Insira aqui o primeiro número:1\n",
            "Insira aqui o segundo número:2\n",
            "Insira aqui o terceiro número:3\n",
            "3.0,2.0,1.0\n"
          ],
          "name": "stdout"
        }
      ]
    },
    {
      "cell_type": "markdown",
      "metadata": {
        "id": "e7id8Ewgzlow"
      },
      "source": [
        "As Organizações Mendéz resolveram dar um aumento de salário aos seus colaboradores e lhe contraram para desenvolver o programa que calculará os reajustes em Python. Faça um programa que receba o salário de um colaborador e o reajuste segundo o seguinte critério, baseado no salário atual:\n",
        "\n",
        "* salários entre 680,00 e 800,00 : aumento de 15%<br>\n",
        "* salários entre 800,00 e 2500,00 : aumento de 10%<br>\n",
        "* salários de 2500,00 em diante : aumento de 5% após o aumento ser realizado.\n",
        "\n",
        "Informe na tela:\n",
        "* o salário antes do reajuste;\n",
        "* o percentual de aumento aplicado;\n",
        "* o valor do aumento;\n",
        "* o novo salário, após o aumento."
      ]
    },
    {
      "cell_type": "code",
      "metadata": {
        "id": "Kl0ainsv0Eif",
        "colab": {
          "base_uri": "https://localhost:8080/"
        },
        "outputId": "7e19a8d3-09f3-415c-91fd-3dac614b2218"
      },
      "source": [
        "salario=float(input('Insira aqui o salário antes do reajuste:'))\n",
        "if salario<800 and salario>=680:\n",
        "  aumento=15\n",
        "  nsalario=salario+ 0.15*salario\n",
        "elif salario<2500 and salario>=800:\n",
        "  aumento=10\n",
        "  nsalario=salario+ 0.1*salario\n",
        "elif salario>=2500:\n",
        "  aumento=5\n",
        "  nsalario=salario+0.05*salario\n",
        "else:\n",
        "  print('O salário digitado é menor que 680.')\n",
        "  \n",
        "print(f'Salário antes do reajuste: {salario}')\n",
        "print(f'Percentual de aumento aplicado: {aumento}%')\n",
        "print(f'Aumento: {(aumento/100)*salario}')\n",
        "print(f'Novo salário: {nsalario}')\n",
        "\n",
        "\n"
      ],
      "execution_count": 2,
      "outputs": [
        {
          "output_type": "stream",
          "text": [
            "Insira aqui o salário antes do reajuste:1000\n",
            "Salário antes do reajuste: 1000.0\n",
            "Percentual de aumento aplicado: 10%\n",
            "Aumento: 100.0\n",
            "Novo salário: 1100.0\n"
          ],
          "name": "stdout"
        }
      ]
    }
  ]
}