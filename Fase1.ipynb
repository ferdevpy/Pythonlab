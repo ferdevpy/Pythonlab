{
  "nbformat": 4,
  "nbformat_minor": 0,
  "metadata": {
    "colab": {
      "name": "Fase1.ipynb",
      "provenance": [],
      "collapsed_sections": [],
      "include_colab_link": true
    },
    "kernelspec": {
      "name": "python3",
      "display_name": "Python 3"
    }
  },
  "cells": [
    {
      "cell_type": "markdown",
      "metadata": {
        "id": "view-in-github",
        "colab_type": "text"
      },
      "source": [
        "<a href=\"https://colab.research.google.com/github/ferdevpy/Pythonlab/blob/main/Fase1.ipynb\" target=\"_parent\"><img src=\"https://colab.research.google.com/assets/colab-badge.svg\" alt=\"Open In Colab\"/></a>"
      ]
    },
    {
      "cell_type": "markdown",
      "metadata": {
        "id": "CYNAmoj4zSXl"
      },
      "source": [
        "Crie um algoritmo em Python que mostre a mensagem \"Alo mundo\" na tela."
      ]
    },
    {
      "cell_type": "code",
      "metadata": {
        "id": "ViAfpy3GzPN-",
        "colab": {
          "base_uri": "https://localhost:8080/"
        },
        "outputId": "d3d8660f-28d2-4815-e3b3-cd4cae69b451"
      },
      "source": [
        "\n",
        "print('Alo mundo')"
      ],
      "execution_count": null,
      "outputs": [
        {
          "output_type": "stream",
          "text": [
            "Alo mundo\n"
          ],
          "name": "stdout"
        }
      ]
    },
    {
      "cell_type": "markdown",
      "metadata": {
        "id": "gdMis92izSmQ"
      },
      "source": [
        "Crie um algoritmo em Python que peça dois números e imprima a soma."
      ]
    },
    {
      "cell_type": "code",
      "metadata": {
        "id": "BFpWkdCBz_zh",
        "colab": {
          "base_uri": "https://localhost:8080/"
        },
        "outputId": "79e79abc-7f01-40ff-9540-fb3dfd61808b"
      },
      "source": [
        "\n",
        "n1=float(input('Insira o primeiro número:'))\n",
        "n2=float(input('Insira o segundo número:'))\n",
        "print(f'A soma dos dois números inseridos é: {n1+n2}')"
      ],
      "execution_count": null,
      "outputs": [
        {
          "output_type": "stream",
          "text": [
            "Insira o primeiro número:1\n",
            "Insira o segundo número:2\n",
            "A soma dos dois números inseridos é: 3.0\n"
          ],
          "name": "stdout"
        }
      ]
    },
    {
      "cell_type": "markdown",
      "metadata": {
        "id": "E_0l_Vx6zSo2"
      },
      "source": [
        "Crie um algoritmo em Python que peça um número e então mostre a mensagem O número informado foi [número]."
      ]
    },
    {
      "cell_type": "code",
      "metadata": {
        "id": "KwJf7XZS0AZW",
        "colab": {
          "base_uri": "https://localhost:8080/"
        },
        "outputId": "8ba589be-c129-47d2-8acf-0580cbc22b16"
      },
      "source": [
        "\n",
        "num=input('Insira aqui um número.')\n",
        "print(f'O número inserido foi {num}')"
      ],
      "execution_count": null,
      "outputs": [
        {
          "output_type": "stream",
          "text": [
            "Insira aqui um número.3\n",
            "O número inserido foi 3\n"
          ],
          "name": "stdout"
        }
      ]
    },
    {
      "cell_type": "markdown",
      "metadata": {
        "id": "1i4VCiiczSrL"
      },
      "source": [
        "Crie um algoritmo em Python que converta metros para centímetros."
      ]
    },
    {
      "cell_type": "code",
      "metadata": {
        "id": "yoW67hjA0BHy",
        "colab": {
          "base_uri": "https://localhost:8080/"
        },
        "outputId": "bd37c946-dce6-40fd-ed5d-9507e688da76"
      },
      "source": [
        "\n",
        "metro=float(input('Insira aqui a quantidade de metros.'))\n",
        "cm=metro*100\n",
        " \n",
        "print(f'{metro} é igual a {cm} centímetros')"
      ],
      "execution_count": null,
      "outputs": [
        {
          "output_type": "stream",
          "text": [
            "Insira aqui a quantidade de metros.4\n",
            "4.0 é igual a 400.0\n"
          ],
          "name": "stdout"
        }
      ]
    },
    {
      "cell_type": "markdown",
      "metadata": {
        "id": "4ep7kezvzStO"
      },
      "source": [
        "Crie um algoritmo em Python que peça as 4 notas bimestrais e mostre a média."
      ]
    },
    {
      "cell_type": "code",
      "metadata": {
        "id": "6K6IHWdr0Blt",
        "colab": {
          "base_uri": "https://localhost:8080/"
        },
        "outputId": "ff0be3ab-c2aa-4239-9841-83f9e2a4f22a"
      },
      "source": [
        " \n",
        "total=0\n",
        "for i in range(1,5):\n",
        "   nota=float(input(f'Insira aqui a nota do {i} bimestre:'))\n",
        "   total=total+nota\n",
        " \n",
        "media=total/i\n",
        " \n",
        "print(f'A média é igual a {media}')"
      ],
      "execution_count": null,
      "outputs": [
        {
          "output_type": "stream",
          "text": [
            "Insira aqui a nota do 1 bimestre:20\n",
            "Insira aqui a nota do 2 bimestre:30\n",
            "Insira aqui a nota do 3 bimestre:20\n",
            "Insira aqui a nota do 4 bimestre:30\n",
            "A média é igual a 25.0\n"
          ],
          "name": "stdout"
        }
      ]
    },
    {
      "cell_type": "markdown",
      "metadata": {
        "id": "u6__NaXqzeYg"
      },
      "source": [
        "Crie um algoritmo em Python que peça o raio de um círculo, calcule e mostre sua área."
      ]
    },
    {
      "cell_type": "code",
      "metadata": {
        "id": "mm2L7g3x0Cfx",
        "colab": {
          "base_uri": "https://localhost:8080/"
        },
        "outputId": "2db7a265-a7c4-456a-86a8-246ffaee4fb0"
      },
      "source": [
        "import math\n",
        " \n",
        "raio= float(input('Insira aqui o raio do círculo:'))\n",
        "area=math.pi*(raio**2)\n",
        "print (f'A área do círculo é igual a {area}')"
      ],
      "execution_count": null,
      "outputs": [
        {
          "output_type": "stream",
          "text": [
            "Insira aqui o raio do círculo:2\n",
            "A área do círculo é igual a 12.566370614359172\n"
          ],
          "name": "stdout"
        }
      ]
    },
    {
      "cell_type": "markdown",
      "metadata": {
        "id": "lIlfG-ATzgOr"
      },
      "source": [
        "Crie um algoritmo em Python que calcule a área de um quadrado, em seguida mostre o dobro desta área para o usuário."
      ]
    },
    {
      "cell_type": "code",
      "metadata": {
        "id": "-y4pB6br0DD_",
        "colab": {
          "base_uri": "https://localhost:8080/"
        },
        "outputId": "5a91bfd3-b610-47f5-dca6-000c60482fb7"
      },
      "source": [
        "lado=float(input('insira aqui a medida do lado do quadrado.'))\n",
        "area=lado**2\n",
        "print(f'O dobro da área do quadrado é {2*area}')"
      ],
      "execution_count": null,
      "outputs": [
        {
          "output_type": "stream",
          "text": [
            "insira aqui a medida do lado do quadrado.8\n",
            "O dobro da área do quadrado é 128.0\n"
          ],
          "name": "stdout"
        }
      ]
    },
    {
      "cell_type": "markdown",
      "metadata": {
        "id": "Vj4OXsJQziu_"
      },
      "source": [
        "Crie um algoritmo em Python que pergunte quanto você ganha por hora e o número de horas trabalhadas no mês. Calcule e mostre o total do seu salário no referido mês.\n"
      ]
    },
    {
      "cell_type": "code",
      "metadata": {
        "id": "RmApGpg30D00",
        "colab": {
          "base_uri": "https://localhost:8080/"
        },
        "outputId": "db528940-a200-477f-b164-6592591da813"
      },
      "source": [
        "sh=float(input('Quanto você ganha por hora?'))\n",
        "ht=float(input ('Quantas horas você trabalhou este mês?'))\n",
        "print(f'Seu salário estimado é de {sh*ht} reais')"
      ],
      "execution_count": null,
      "outputs": [
        {
          "output_type": "stream",
          "text": [
            "Quanto você ganha por hora?1\n",
            "Quantas horas você trabalhou este mês?120\n",
            "Seu salário estimado é de 120.0 reais\n"
          ],
          "name": "stdout"
        }
      ]
    },
    {
      "cell_type": "markdown",
      "metadata": {
        "id": "e7id8Ewgzlow"
      },
      "source": [
        "Crie um algoritmo em Python que peça a temperatura em graus Farenheit, transforme e mostre a temperatura em graus Celsius.\n",
        "C = (5 * (F-32) / 9)."
      ]
    },
    {
      "cell_type": "code",
      "metadata": {
        "id": "Kl0ainsv0Eif",
        "colab": {
          "base_uri": "https://localhost:8080/"
        },
        "outputId": "ef33a6ee-7744-495b-ae59-ef4bb6acd2b2"
      },
      "source": [
        "temp=float(input('insira aqui a temperatura em Farenheit.'))\n",
        "C= (5 * (temp-32) / 9)\n",
        "print(f'A temperatura em graus Celsius é {C}')"
      ],
      "execution_count": null,
      "outputs": [
        {
          "output_type": "stream",
          "text": [
            "insira aqui a temperatura em Farenheit.10\n",
            "A temperatura em graus Celsius é -12.222222222222221\n"
          ],
          "name": "stdout"
        }
      ]
    },
    {
      "cell_type": "markdown",
      "metadata": {
        "id": "mFCgXRPaznno"
      },
      "source": [
        "Crie um algoritmo em Python que peça a temperatura em graus Celsius, transforme e mostre em graus Farenheit."
      ]
    },
    {
      "cell_type": "code",
      "metadata": {
        "id": "xEAAHRi00FS8",
        "colab": {
          "base_uri": "https://localhost:8080/"
        },
        "outputId": "25c4dc21-0534-4716-abe8-4b4d0ab5e43c"
      },
      "source": [
        "temp=float(input('insira aqui a temperatura em Celsius.'))\n",
        "F= (9/5)*temp +32\n",
        "print(f'A temperatura em Farenheit é {F}')"
      ],
      "execution_count": null,
      "outputs": [
        {
          "output_type": "stream",
          "text": [
            "insira aqui a temperatura em Celsius.-12.222222\n",
            "A temperatura em Farenheit é 10.000000399999998\n"
          ],
          "name": "stdout"
        }
      ]
    },
    {
      "cell_type": "markdown",
      "metadata": {
        "id": "j3fdhu-8zqu9"
      },
      "source": [
        "Crie um algoritmo em Python que peça 2 números inteiros e um número real. Calcule e mostre:\n",
        "* a soma do dobro do primeiro com metade do segundo .\n",
        "* a soma do triplo do primeiro com o terceiro.\n",
        "* o terceiro elevado ao cubo."
      ]
    },
    {
      "cell_type": "code",
      "metadata": {
        "id": "ZEqZrKjt0F5B",
        "colab": {
          "base_uri": "https://localhost:8080/"
        },
        "outputId": "839a2411-136f-43b4-d52c-56e588ba7854"
      },
      "source": [
        "1n1=int(input('Insira aqui um número inteiro'))\n",
        "n2=int(input('Insira aqui outro número inteiro'))\n",
        "n3=float(input('Insira aqui um número real'))\n",
        " \n",
        "print(f'a soma do dobro do primeiro com metade do segundo{2*n1 +n2/2}')\n",
        "print(f'a soma do triplo do primeiro com o terceiro: {3*n1 + n3}')\n",
        "print(f'o terceiro elevado ao cubo: {n3**3}')"
      ],
      "execution_count": null,
      "outputs": [
        {
          "output_type": "stream",
          "text": [
            "Insira aqui um número inteiro1\n",
            "Insira aqui outro número inteiro1\n",
            "Insira aqui um número real1\n",
            "a soma do dobro do primeiro com metade do segundo2.5\n",
            "a soma do triplo do primeiro com o terceiro: 4.0\n",
            "o terceiro elevado ao cubo: 1.0\n"
          ],
          "name": "stdout"
        }
      ]
    }
  ]
}