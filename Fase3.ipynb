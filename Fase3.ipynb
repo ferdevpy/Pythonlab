{
  "nbformat": 4,
  "nbformat_minor": 0,
  "metadata": {
    "colab": {
      "name": "Fase3.ipynb",
      "provenance": [],
      "include_colab_link": true
    },
    "kernelspec": {
      "display_name": "Python 3",
      "name": "python3"
    }
  },
  "cells": [
    {
      "cell_type": "markdown",
      "metadata": {
        "id": "view-in-github",
        "colab_type": "text"
      },
      "source": [
        "<a href=\"https://colab.research.google.com/github/ferdevpy/Pythonlab/blob/main/Fase3.ipynb\" target=\"_parent\"><img src=\"https://colab.research.google.com/assets/colab-badge.svg\" alt=\"Open In Colab\"/></a>"
      ]
    },
    {
      "cell_type": "markdown",
      "metadata": {
        "id": "CYNAmoj4zSXl"
      },
      "source": [
        "Crie um algoritmo em Python que peça uma nota, entre zero e 100. Mostre uma mensagem caso o valor seja inválido e continue pedindo até que o usuário informe um valor válido."
      ]
    },
    {
      "cell_type": "code",
      "metadata": {
        "colab": {
          "base_uri": "https://localhost:8080/"
        },
        "id": "ViAfpy3GzPN-",
        "outputId": "e07c919c-c77b-4077-d9d6-e8bb940d35d1"
      },
      "source": [
        "while True:\n",
        "  num=float(input('Insira aqui um valor entre 0 e 100:'))\n",
        "  if num>=0 and num<=100:\n",
        "    print(f'O valor inserido foi {num}')\n",
        "    break\n",
        "  else:\n",
        "    print('O valor inserido não é válido. Tente novamente.')"
      ],
      "execution_count": null,
      "outputs": [
        {
          "output_type": "stream",
          "text": [
            "Insira aqui um valor entre 0 e 100:102\n",
            "O valor inserido não é válido. Tente novamente.\n",
            "Insira aqui um valor entre 0 e 100:2\n",
            "O valor inserido foi 2.0\n"
          ],
          "name": "stdout"
        }
      ]
    },
    {
      "cell_type": "markdown",
      "metadata": {
        "id": "gdMis92izSmQ"
      },
      "source": [
        "Crie um algoritmo em Python que leia um nome de usuário e a sua senha e não aceite a senha igual ao nome do usuário, mostrando uma mensagem de erro e voltando a pedir as informações.<br>"
      ]
    },
    {
      "cell_type": "code",
      "metadata": {
        "colab": {
          "base_uri": "https://localhost:8080/"
        },
        "id": "BFpWkdCBz_zh",
        "outputId": "8d6953e1-5d40-4953-ec7c-45b28332ba02"
      },
      "source": [
        "usuario=input('nome de usuário:')\n",
        "while True:\n",
        "  senha=input('senha:')\n",
        "  if senha == usuario:\n",
        "    print('ERRO!!!!Por favor insira uma senha diferente de seu nome de usuário.')\n",
        "  else:\n",
        "    break\n",
        "print(usuario)\n",
        "print(senha)\n",
        "\n",
        "#para que o código peça o nome de usuário novamente, basta coloar a variável usuario dentro do while."
      ],
      "execution_count": null,
      "outputs": [
        {
          "output_type": "stream",
          "text": [
            "nome de usuário:ferdevpy\n",
            "senha:fer5566\n",
            "ferdevpy\n",
            "fer5566\n"
          ],
          "name": "stdout"
        }
      ]
    },
    {
      "cell_type": "markdown",
      "metadata": {
        "id": "E_0l_Vx6zSo2"
      },
      "source": [
        "Crie um algoritmo em Python que leia e valide as seguintes informações:\n",
        "* Nome: maior que 3 caracteres;\n",
        "* Idade: entre 0 e 150;\n",
        "* Salário: maior que zero;\n",
        "* Sexo: 'f' ou 'm';\n",
        "* Estado Civil: 's', 'c', 'v', 'd';"
      ]
    },
    {
      "cell_type": "code",
      "metadata": {
        "colab": {
          "base_uri": "https://localhost:8080/"
        },
        "id": "KwJf7XZS0AZW",
        "outputId": "e1993ee9-855c-49b4-d23c-931dff5dce39"
      },
      "source": [
        "i=0\n",
        "while i==0:\n",
        "  nome=input('Nome:')\n",
        "  idade=int(input('idade:'))\n",
        "  salario=float(input('salário:'))\n",
        "  sexo=input('sexo:')\n",
        "  estadoc=input('estado civil:')\n",
        "  while len(nome)<=3:\n",
        "      print('Por favor, insira um nome com mais de 3 caracteres.')\n",
        "      nome=input('Nome:')\n",
        "  while idade<0 or idade>150:\n",
        "      print('Por favor, insira uma idade válida.')\n",
        "      idade=int(input('idade:'))\n",
        "  while salario<0 :\n",
        "      print('Por favor, insira um salário maior que 0.')\n",
        "      salario=float(input('salário:'))\n",
        "  while  sexo not in 'fFmM':\n",
        "      print('Por favor, insira um sexo válido')\n",
        "      sexo=input('sexo:')\n",
        "  while estadoc not in 'scvdSCVD':\n",
        "      print('Por favor, insira um estado válido.')\n",
        "      estadoc=input('estado civil:')\n",
        "\n",
        "  i=i+1\n",
        "print('#'*100)\n",
        "print(f'nome:{nome}')\n",
        "print(f'idade:{idade}')\n",
        "print(f'slário:{salario}')\n",
        "print(f'sexo:{sexo}')\n",
        "print(f'estado civil:{estadoc}')\n"
      ],
      "execution_count": null,
      "outputs": [
        {
          "output_type": "stream",
          "text": [
            "Nome:fernanda\n",
            "idade:22\n",
            "salário:1000\n",
            "sexo:f\n",
            "estado civil:s\n",
            "####################################################################################################\n",
            "nome:fernanda\n",
            "idade:22\n",
            "slário:1000.0\n",
            "sexo:f\n",
            "estado civil:s\n"
          ],
          "name": "stdout"
        }
      ]
    },
    {
      "cell_type": "markdown",
      "metadata": {
        "id": "1i4VCiiczSrL"
      },
      "source": [
        "Supondo que a população de um país A seja da ordem de 80000 habitantes com uma taxa anual de crescimento de 3% e que a população de B seja 200000 habitantes com uma taxa de crescimento de 1.5%.<br><br> Crie um algoritmo em Python que calcule e escreva o número de anos necessários para que a população do país A ultrapasse ou iguale a população do país B, mantidas as taxas de crescimento."
      ]
    },
    {
      "cell_type": "code",
      "metadata": {
        "colab": {
          "base_uri": "https://localhost:8080/"
        },
        "id": "yoW67hjA0BHy",
        "outputId": "c53373fa-5e06-447e-d0c7-1ccb9c3f1594"
      },
      "source": [
        "popa=float(input('população país A:'))\n",
        "popb=float(input('população país B:'))\n",
        "a=1\n",
        "while True:\n",
        "  popa=popa+0.03*popa\n",
        "  popb=popb+popb*0.015\n",
        "  if popa>=popb:\n",
        "    break\n",
        "  a=a+1\n",
        "print(f'Foram necessários {a} anos para a população do país A ultrapassar ou se igualar à do país B.')"
      ],
      "execution_count": null,
      "outputs": [
        {
          "output_type": "stream",
          "text": [
            "população país A:80000\n",
            "população país B:200000\n",
            "Foram necessários 63 anos para a população do país A ultrapassar ou se igualar à do país B.\n"
          ],
          "name": "stdout"
        }
      ]
    },
    {
      "cell_type": "markdown",
      "metadata": {
        "id": "4ep7kezvzStO"
      },
      "source": [
        "Desenvolva um gerador de tabuada, capaz de gerar a tabuada de qualquer número inteiro entre 1 a 10. O usuário deve informar de qual numero ele deseja ver a tabuada. A saída deve ser conforme o exemplo abaixo:\n",
        "Tabuada de 5:<br>\n",
        "5 X 1 = 5<br>\n",
        "5 X 2 = 10<br>\n",
        "...<br>\n",
        "5 X 10 = 50<br>"
      ]
    },
    {
      "cell_type": "code",
      "metadata": {
        "colab": {
          "base_uri": "https://localhost:8080/"
        },
        "id": "6K6IHWdr0Blt",
        "outputId": "b472be3e-251b-4fdb-b526-438012527762"
      },
      "source": [
        "\n",
        "while True:\n",
        "  num=int(input('insira aqui o número sobre o qual deseja fazer a tabuada.'))\n",
        "  if num<10 and num>1:\n",
        "    break\n",
        "  else:\n",
        "    print('Insira um número entre 1 e 10')\n",
        "mult=1\n",
        "while mult<=10:\n",
        "  print(f'{num} x {mult} = {num*mult} \\n')\n",
        "  mult=mult+1\n",
        "    "
      ],
      "execution_count": null,
      "outputs": [
        {
          "output_type": "stream",
          "text": [
            "insira aqui o número sobre o qual deseja fazer a tabuada.5\n",
            "5 x 1 = 5 \n",
            "\n",
            "5 x 2 = 10 \n",
            "\n",
            "5 x 3 = 15 \n",
            "\n",
            "5 x 4 = 20 \n",
            "\n",
            "5 x 5 = 25 \n",
            "\n",
            "5 x 6 = 30 \n",
            "\n",
            "5 x 7 = 35 \n",
            "\n",
            "5 x 8 = 40 \n",
            "\n",
            "5 x 9 = 45 \n",
            "\n",
            "5 x 10 = 50 \n",
            "\n"
          ],
          "name": "stdout"
        }
      ]
    },
    {
      "cell_type": "markdown",
      "metadata": {
        "id": "u6__NaXqzeYg"
      },
      "source": [
        "Crie um algoritmo em Python que leia três números e mostre o maior e o menor deles."
      ]
    },
    {
      "cell_type": "code",
      "metadata": {
        "colab": {
          "base_uri": "https://localhost:8080/"
        },
        "id": "mm2L7g3x0Cfx",
        "outputId": "8c568749-a21f-4639-e5d9-dbccd537dfed"
      },
      "source": [
        "nums=[]\n",
        "for i in range(3):\n",
        "  nums.append(int(input(f'{i+1}º número:')))\n",
        "print(f'maior: {max(nums)}')\n",
        "print(f'menor:{min(nums)}')"
      ],
      "execution_count": null,
      "outputs": [
        {
          "output_type": "stream",
          "text": [
            "1º número:2\n",
            "2º número:3\n",
            "3º número:4\n",
            "maior: 4\n",
            "menor:2\n"
          ],
          "name": "stdout"
        }
      ]
    },
    {
      "cell_type": "markdown",
      "metadata": {
        "id": "lIlfG-ATzgOr"
      },
      "source": [
        "Crie um algoritmo em Python que peça 2 números, base e expoente, calcule e mostre o primeiro número elevado ao segundo número. Não utilize a função de potência da linguagem."
      ]
    },
    {
      "cell_type": "code",
      "metadata": {
        "colab": {
          "base_uri": "https://localhost:8080/"
        },
        "id": "-y4pB6br0DD_",
        "outputId": "a9c5cb24-bae8-477e-bbc3-64c8fa20eeaa"
      },
      "source": [
        "base=int(input('base:'))\n",
        "expoente=int(input('expoente:'))\n",
        "resultado=1\n",
        "for i in range(expoente):\n",
        "  resultado=resultado*base\n",
        "print(f'Resultado:+{resultado}')"
      ],
      "execution_count": null,
      "outputs": [
        {
          "output_type": "stream",
          "text": [
            "base:5\n",
            "expoente:2\n",
            "Resultado:25\n"
          ],
          "name": "stdout"
        }
      ]
    },
    {
      "cell_type": "markdown",
      "metadata": {
        "id": "Vj4OXsJQziu_"
      },
      "source": [
        "Crie um algoritmo em Python que peça 10 números inteiros, calcule e mostre a quantidade de números pares e a quantidade de números impares."
      ]
    },
    {
      "cell_type": "code",
      "metadata": {
        "colab": {
          "base_uri": "https://localhost:8080/"
        },
        "id": "RmApGpg30D00",
        "outputId": "5bb3e7d5-e9c5-41c1-e111-1dc459b49336"
      },
      "source": [
        "nums=[]\n",
        "par=0\n",
        "for i in range(10):\n",
        "  nums.append(int(input(f'{i+1}º número:')))\n",
        "  if nums[i]%2==0:\n",
        "    par=par+1\n",
        "print(f'Números inseridos: {nums}')\n",
        "print(f'Quantidade de pares: {par}')\n",
        "print(f'Quantidade de ímpares: {len(nums)-par}')"
      ],
      "execution_count": null,
      "outputs": [
        {
          "output_type": "stream",
          "text": [
            "1º número:2\n",
            "2º número:2\n",
            "3º número:2\n",
            "4º número:2\n",
            "5º número:2\n",
            "6º número:2\n",
            "7º número:2\n",
            "8º número:2\n",
            "9º número:2\n",
            "10º número:2\n",
            "Números inseridos: [2, 2, 2, 2, 2, 2, 2, 2, 2, 2]\n",
            "Quantidade de pares: 10\n",
            "Quantidade de ímpares: 0\n"
          ],
          "name": "stdout"
        }
      ]
    },
    {
      "cell_type": "markdown",
      "metadata": {
        "id": "e7id8Ewgzlow"
      },
      "source": [
        "Um funcionário de uma empresa recebe aumento salarial anualmente: Sabe-se que:\n",
        "Esse funcionário foi contratado em 1995, com salário inicial de R$ 1.000,00;\n",
        "Em 1996 recebeu aumento de 1,5% sobre seu salário inicial;\n",
        "A partir de 1997 (inclusive), os aumentos salariais sempre correspondem ao dobro do percentual do ano anterior. Crie um algoritmo em Python que determine o salário atual desse funcionário. Após concluir isto, altere o programa permitindo que o usuário digite o salário inicial do funcionário."
      ]
    },
    {
      "cell_type": "code",
      "metadata": {
        "colab": {
          "base_uri": "https://localhost:8080/"
        },
        "id": "Kl0ainsv0Eif",
        "outputId": "c302d53f-9c2c-411b-85b2-b17a807a6705"
      },
      "source": [
        "salario=float(input('sálario inicial:'))\n",
        "ano=int(input('ano de ingresso:'))\n",
        "anoat=int(input('ano atual:'))\n",
        "aumento=1.5/100\n",
        "while ano<anoat:\n",
        "  ano=ano+1\n",
        "  if ano<1997:\n",
        "    salario=salario+ aumento*salario\n",
        "  else:\n",
        "    aumento=aumento*2\n",
        "    salario=salario+aumento*salario\n",
        "print(f'salário atual: {salario}')"
      ],
      "execution_count": null,
      "outputs": [
        {
          "output_type": "stream",
          "text": [
            "sálario inicial:1000\n",
            "ano de ingresso:1995\n",
            "ano atual:1998\n",
            "salário atual: 1108.1770000000001\n"
          ],
          "name": "stdout"
        }
      ]
    },
    {
      "cell_type": "markdown",
      "metadata": {
        "id": "5u9i4kzm-itX"
      },
      "source": [
        "Crie um algoritmo em Python com uma função que necessite de um argumento. A função retorna o valor de caractere ‘P’, se seu argumento for positivo, e ‘N’, se seu argumento for zero ou negativo."
      ]
    },
    {
      "cell_type": "code",
      "metadata": {
        "id": "WNt8CLa2-rGt"
      },
      "source": [
        "def test(num):\n",
        "  if num>0:\n",
        "    return 'P'\n",
        "  else:\n",
        "    return 'N'\n",
        "num=int(input('insira um numero:'))\n",
        "print(test(num))"
      ],
      "execution_count": null,
      "outputs": []
    },
    {
      "cell_type": "markdown",
      "metadata": {
        "id": "CHiYMSOJ-rSY"
      },
      "source": [
        "Construa uma função que receba uma data no formato DD/MM/AAAA e devolva uma string no formato D de mesPorExtenso de AAAA. Opcionalmente, valide a data e retorne NULL caso a data seja inválida."
      ]
    },
    {
      "cell_type": "code",
      "metadata": {
        "id": "6Ukxx6gQ-r4-",
        "colab": {
          "base_uri": "https://localhost:8080/"
        },
        "outputId": "493a9eca-8f7f-48fb-98c3-dabacf5a673c"
      },
      "source": [
        "while True:\n",
        "  data=input('Insira a data no formato DD/MM/AAAA:')\n",
        "  data=data.split('/')\n",
        "  if int(data[1])==4 or int(data[1])==6 or int(data[1])==9 or int(data[1])==11:\n",
        "    if int(data[0])>30:\n",
        "      print('Data inválida!')\n",
        "    else:\n",
        "      break\n",
        "  else:\n",
        "    if int(data[1])==2:\n",
        "      if int(data[0])>29:\n",
        "        print('Data inválida!')\n",
        "      else:\n",
        "        break\n",
        "    else: \n",
        "      if int(data[0])>31:\n",
        "        print('Data inválida!')\n",
        "      else:\n",
        "        break\n",
        "meses=['janeiro','fevereiro','março', 'abril', 'maio', 'junho','julho', 'agosto', 'setembro', 'outubro', 'novembro', 'dezembro']   \n",
        "print(f'{data[0]} de {meses[int(data[1])-1]} de {data[2]}')\n"
      ],
      "execution_count": 6,
      "outputs": [
        {
          "output_type": "stream",
          "text": [
            "Insira a data no formato DD/MM/AAAA:30/02/2020\n",
            "Data inválida!\n",
            "Insira a data no formato DD/MM/AAAA:12/02/2020\n",
            "12 de fevereiro de 2020\n"
          ],
          "name": "stdout"
        }
      ]
    },
    {
      "cell_type": "markdown",
      "metadata": {
        "id": "AzUYbZ8A-zj7"
      },
      "source": [
        "Crie uma classe que modele uma pessoa:<br>\n",
        "\n",
        "Atributos: nome, idade, peso e altura<br>\n",
        "Métodos: Envelhercer, engordar, emagrecer, crescer.<br>\n",
        "<br>Obs: Por padrão, a cada ano que nossa pessoa envelhece, sendo a idade dela menor que 21 anos, ela deve crescer 0,5 cm."
      ]
    },
    {
      "cell_type": "code",
      "metadata": {
        "id": "qobhV-FC-zRS"
      },
      "source": [
        "class Pessoa:\n",
        "  def __init__(self,nome,idade,peso,altura):\n",
        "    self.nome=nome\n",
        "    self.idade=idade\n",
        "    self.peso=peso\n",
        "    self.altura=altura\n",
        "  def envelhecer(self,anos):\n",
        "    if self.idade<21:\n",
        "      self.altura=self.altura+anos*0.5\n",
        "    self.idade=self.idade+anos   \n",
        "  def engordar(self,quilos):\n",
        "    self.peso=self.peso+quilos\n",
        "  def crescer(self,c):\n",
        "    self.altura=self.altura+c\n",
        "\n",
        "Ana=Pessoa('Ana Flávia',6,30,130)"
      ],
      "execution_count": 16,
      "outputs": []
    }
  ]
}